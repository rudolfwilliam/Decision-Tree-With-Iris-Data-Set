{
 "cells": [
  {
   "cell_type": "markdown",
   "metadata": {},
   "source": [
    "# Decision Tree on the famous Iris flower data set\n",
    "Here is my own implementation of this classic machine learning algorithm. I tried to use as few libraries as possible."
   ]
  },
  {
   "cell_type": "code",
   "execution_count": 1,
   "metadata": {},
   "outputs": [],
   "source": [
    "import csv\n",
    "from random import shuffle\n",
    "\n",
    "# classical iris flower data set\n",
    "with open('IRIS.csv') as csvfile:\n",
    "     data_set = list(csv.reader(csvfile))\n",
    "        \n",
    "shuffle(data_set)\n",
    "cut = int(0.8 * len(data_set))\n",
    "training_data = data_set[:cut]\n",
    "testing_data = data_set[cut:]"
   ]
  },
  {
   "cell_type": "code",
   "execution_count": 2,
   "metadata": {
    "collapsed": true
   },
   "outputs": [],
   "source": [
    "# no need to use the \"actual\" labels\n",
    "header = [\"a\", \"b\", \"c\", \"d\", \"e\", \"f\", \"g\", \"h\"]"
   ]
  },
  {
   "cell_type": "code",
   "execution_count": 3,
   "metadata": {
    "collapsed": true
   },
   "outputs": [],
   "source": [
    "# the probability of choosing the wrong answer randomly\n",
    "def gini_impurity(data):\n",
    "    classes = {}\n",
    "    for instance in data:\n",
    "        if instance[-1] not in classes:\n",
    "            classes.update({instance[-1] : 1})\n",
    "        else:\n",
    "            classes.update({instance[-1] : (classes.get(instance[-1]) + 1)})\n",
    "    \n",
    "    impurity = 0\n",
    "    if len(classes) == 1:\n",
    "        return 0\n",
    "    for i in classes:\n",
    "        prob = len(classes) / classes.get(i)\n",
    "        impurity += prob * (1 - prob)\n",
    "    \n",
    "    return impurity"
   ]
  },
  {
   "cell_type": "code",
   "execution_count": 4,
   "metadata": {},
   "outputs": [
    {
     "name": "stdout",
     "output_type": "stream",
     "text": [
      "0.3000286974048879\n"
     ]
    }
   ],
   "source": [
    "print(gini_impurity(training_data))"
   ]
  },
  {
   "cell_type": "code",
   "execution_count": 5,
   "metadata": {
    "collapsed": true
   },
   "outputs": [],
   "source": [
    "# find out how much the \"uncertainty\" can be reduced by a split\n",
    "def info_gain(left, right, current_uncertainty):\n",
    "    p = float(len(left)) / (len(left) + len(right))\n",
    "    return current_uncertainty - p * gini_impurity(left) - (1 - p) * gini_impurity(right)"
   ]
  },
  {
   "cell_type": "code",
   "execution_count": 6,
   "metadata": {
    "collapsed": true
   },
   "outputs": [],
   "source": [
    "class Question:\n",
    "    \n",
    "    def __init__(self, index, attribute):\n",
    "        self.index = index\n",
    "        self.attribute = attribute   \n",
    "    \n",
    "    # all features are numerical\n",
    "    def decide(self, instance):\n",
    "            return (instance[self.index] > self.attribute)\n",
    "    \n",
    "    # split data set into a wrong list (left) and a right list (right)\n",
    "    def separate(self, data):\n",
    "        right = []\n",
    "        left = []\n",
    "        for instance in data:\n",
    "            if self.decide(instance):\n",
    "                right.append(instance)\n",
    "            else:\n",
    "                left.append(instance)\n",
    "        \n",
    "        return left, right"
   ]
  },
  {
   "cell_type": "code",
   "execution_count": 7,
   "metadata": {
    "collapsed": true
   },
   "outputs": [],
   "source": [
    "class Decision_Tree:\n",
    "    def __init__(self, question, left, right):\n",
    "        self.question = question\n",
    "        self.left = left\n",
    "        self.right = right\n",
    "    \n",
    "    def predict(self, instance):\n",
    "        if self.question.decide(instance):\n",
    "            return self.right.predict(instance)\n",
    "        else:\n",
    "            return self.left.predict(instance)"
   ]
  },
  {
   "cell_type": "code",
   "execution_count": 8,
   "metadata": {
    "collapsed": true
   },
   "outputs": [],
   "source": [
    "class Leaf(Decision_Tree):\n",
    "    def __init__(self, label):\n",
    "        self.label = label\n",
    "    def predict(self, instance):\n",
    "        # the guess has to be made here\n",
    "        return self.label"
   ]
  },
  {
   "cell_type": "code",
   "execution_count": 9,
   "metadata": {
    "collapsed": true
   },
   "outputs": [],
   "source": [
    "def create_decision_tree(data):\n",
    "    if gini_impurity(data) == 0:\n",
    "        return Leaf(data[0][-1])\n",
    "    questions = []\n",
    "    # collect all possible questions\n",
    "    for instance in data:\n",
    "        for feature in header[:-1]:\n",
    "            questions.append(Question(header.index(feature), instance[header.index(feature)]))\n",
    "    best_information_gain = 0\n",
    "    current_impurity = gini_impurity(data)\n",
    "    best_question = None\n",
    "    # finding out which question does best on increasing the information gain\n",
    "    for question in questions:\n",
    "        left, right = question.separate(data)\n",
    "        gain = info_gain(left, right, current_impurity)\n",
    "        if gain > best_information_gain:\n",
    "            best_information_gain = gain\n",
    "            best_question = question\n",
    "    \n",
    "    # if no question can increase the information gain\n",
    "    if best_question == None:\n",
    "        return Leaf(data[0][-1])\n",
    "    left, right = best_question.separate(data)\n",
    "    \n",
    "    return Decision_Tree(best_question, create_decision_tree(left), create_decision_tree(right))    "
   ]
  },
  {
   "cell_type": "code",
   "execution_count": 10,
   "metadata": {},
   "outputs": [
    {
     "name": "stdout",
     "output_type": "stream",
     "text": [
      "prediction: versicolor, actual: versicolor\n",
      "prediction: versicolor, actual: versicolor\n",
      "prediction: versicolor, actual: versicolor\n",
      "prediction: setosa, actual: setosa\n",
      "prediction: setosa, actual: versicolor\n",
      "prediction: setosa, actual: setosa\n",
      "prediction: setosa, actual: virginica\n",
      "prediction: setosa, actual: setosa\n",
      "prediction: virginica, actual: virginica\n",
      "prediction: versicolor, actual: versicolor\n",
      "prediction: virginica, actual: virginica\n",
      "prediction: versicolor, actual: versicolor\n",
      "prediction: setosa, actual: setosa\n",
      "prediction: versicolor, actual: virginica\n",
      "prediction: versicolor, actual: versicolor\n",
      "prediction: setosa, actual: virginica\n",
      "prediction: virginica, actual: virginica\n",
      "prediction: versicolor, actual: virginica\n",
      "prediction: virginica, actual: virginica\n",
      "prediction: versicolor, actual: virginica\n",
      "\n",
      "The error rate is: 0.3\n"
     ]
    }
   ],
   "source": [
    "# constructing the decision tree by use of the training data from the data set\n",
    "decision_tree = create_decision_tree(training_data)\n",
    "falses = 0\n",
    "for instance in testing_data:\n",
    "    print(\"prediction: \" + decision_tree.predict(instance[:-1]) + \", actual: \" + instance[-1])\n",
    "    if decision_tree.predict(instance[:-1]) != instance[-1]:\n",
    "        falses += 1\n",
    "\n",
    "error_rate = falses / len(testing_data)\n",
    "print(\"\\nThe error rate is:\", error_rate)"
   ]
  }
 ],
 "metadata": {
  "kernelspec": {
   "display_name": "Python 3",
   "language": "python",
   "name": "python3"
  },
  "language_info": {
   "codemirror_mode": {
    "name": "ipython",
    "version": 3
   },
   "file_extension": ".py",
   "mimetype": "text/x-python",
   "name": "python",
   "nbconvert_exporter": "python",
   "pygments_lexer": "ipython3",
   "version": "3.6.3"
  }
 },
 "nbformat": 4,
 "nbformat_minor": 2
}
